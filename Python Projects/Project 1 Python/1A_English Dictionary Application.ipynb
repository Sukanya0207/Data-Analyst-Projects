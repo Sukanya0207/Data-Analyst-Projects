{
 "cells": [
  {
   "cell_type": "markdown",
   "id": "04f868af",
   "metadata": {},
   "source": [
    "# English Dictionary App:"
   ]
  },
  {
   "cell_type": "code",
   "execution_count": 5,
   "id": "85f475ca",
   "metadata": {},
   "outputs": [],
   "source": [
    "import pickle \n",
    "import os"
   ]
  },
  {
   "cell_type": "code",
   "execution_count": 6,
   "id": "900a5280",
   "metadata": {},
   "outputs": [],
   "source": [
    "def SaveDictionary(temp_dict):\n",
    "    try:\n",
    "        with open('words.txt', 'wb') as dictionary:\n",
    "            pickle.dump(temp_dict, dictionary)\n",
    "        print(\"SUCCESS: writing to dictionary words.txt\")\n",
    "    except Exception as e:\n",
    "        print(f\"ERROR: {e}\")\n",
    "        \n",
    "def GetDictionary():\n",
    "    try:\n",
    "        with open('words.txt', 'rb') as dictionary:\n",
    "            temp_dict = pickle.load(dictionary)\n",
    "        print(\"SUCCESS: reading from dictionary words.txt\")\n",
    "        return temp_dict\n",
    "    except Exception as e:\n",
    "        print(f\"ERROR: {e}\")\n"
   ]
  },
  {
   "cell_type": "code",
   "execution_count": 7,
   "id": "551ce114",
   "metadata": {},
   "outputs": [],
   "source": [
    "def AddNewWord():\n",
    "    print(\"-\"*120)\n",
    "    print(\"Adding NEW WORD:\")\n",
    "    print(\"-\"*120)\n",
    "    print(\"Adding Synonym:\")\n",
    "    print(\"-\"*120)\n",
    "    print(\"Enter a Word to add\")\n",
    "    word = input(\"Enter word :\")\n",
    "    print(f\"Enter a meaning of {word} to add\")\n",
    "    meaning = input(\"Enter the meaning :\")\n",
    "    print(\"Enter a Synonym to add\")\n",
    "    Synonym = input(\"Enter synonym :\")\n",
    "    print(f\"Enter a meaning of {Synonym} to add\")\n",
    "    dictionary = GetDictionary()\n",
    "    dictionary[word] = meaning\n",
    "    dictionary[word] = Synonym\n",
    "    SaveDictionary(dictionary)\n",
    "    \n",
    "    main_menu()\n"
   ]
  },
  {
   "cell_type": "code",
   "execution_count": 8,
   "id": "ef9d7a25",
   "metadata": {},
   "outputs": [],
   "source": [
    "def FindMeaning():\n",
    "    print(\"-\"*120)\n",
    "    print(\"Finding Word:\")\n",
    "    print(\"-\"*120)\n",
    "    print(\"Enter a Word to find\")\n",
    "    word = input(\"Enter word :\")\n",
    "    dictionary = GetDictionary()\n",
    "    if word in dictionary:\n",
    "        print(f\"Found Entry: [{word} : {dictionary[word]}]\")\n",
    "    else:\n",
    "        print(\"ERROR: The word doesn't exist!\")\n",
    "        FindMeaning()\n",
    "\n",
    "    main_menu()\n"
   ]
  },
  {
   "cell_type": "code",
   "execution_count": 9,
   "id": "ecdf73d1",
   "metadata": {},
   "outputs": [],
   "source": [
    "def UpdateWord():\n",
    "    \n",
    "    print(\"-\"*120)\n",
    "    print(\"Updating Word:\")\n",
    "    print(\"-\"*120)\n",
    "    print(\"Enter an old Word to edit\")\n",
    "    word = input(\"Enter word :\")\n",
    "    \n",
    "    dictionary = GetDictionary()\n",
    "    if word in dictionary:\n",
    "        print(f\"Enter a New Meaning to edit [{word} : {dictionary[word]}] to:\")\n",
    "        new_meaning = input(\"New meaning :\")\n",
    "        dictionary[word] = new_meaning\n",
    "        SaveDictionary(dictionary)\n",
    "        print(f\"SUCCESS: Updated to [{word} : {dictionary[word]}]\")\n",
    "    else:\n",
    "        print(\"ERROR: The word doesn't exist! impossible to update!\")\n",
    "        UpdateWord()\n",
    "\n",
    "    main_menu()\n"
   ]
  },
  {
   "cell_type": "code",
   "execution_count": 10,
   "id": "5c02efdf",
   "metadata": {},
   "outputs": [],
   "source": [
    "def main_menu():\n",
    "    '''\n",
    "    Menu:\n",
    "    ---------------------------------------------------------------------------------------------------------------------------\n",
    "    Welcomes you in ENGLISH DICTIONARY APP\n",
    "    ---------------------------------------------------------------------------------------------------------------------------\n",
    "    1) Adding a new word\n",
    "    2) Finding the meaning\n",
    "    3) Updating a word\n",
    "    4) Exit\n",
    "    ---------------------------------------------------------------------------------------------------------------------------\n",
    "    '''\n",
    "    if not os.path.exists(os.path.join(\"words.txt\")):\n",
    "        try:\n",
    "            with open('words.txt', 'wb') as dictionary:\n",
    "                pickle.dump({}, dictionary)\n",
    "            print(\"SUCCESS: writing to dictionary words.txt\")\n",
    "        except Exception as e:\n",
    "            print(f\"ERROR: {e}\")\n",
    "    print(\"-\"*120)\n",
    "    print(\"Welcomes you in ENGLISH DICTIONARY APP\")\n",
    "    print(\"-\"*120)\n",
    "    print(\"1) Adding a new word\")\n",
    "    print(\"2) Finding the meaning\")\n",
    "    print(\"3) Updating a word\")\n",
    "    print(\"4) Exit\")\n",
    "    print(\"-\"*120)\n",
    "    n = int(input(\"Enter number of your choice :\"))\n",
    "    if n==1:\n",
    "        AddNewWord()\n",
    "    elif n==2:\n",
    "        FindMeaning()\n",
    "    elif n==3:\n",
    "        UpdateWord()\n",
    "    elif n==4:\n",
    "        exit()\n",
    "    else:\n",
    "        print(\"ERROR: Please Enter a digit according to Menu.\")\n",
    "        main_menu()"
   ]
  },
  {
   "cell_type": "code",
   "execution_count": 11,
   "id": "fa3cf451",
   "metadata": {},
   "outputs": [
    {
     "name": "stdout",
     "output_type": "stream",
     "text": [
      "------------------------------------------------------------------------------------------------------------------------\n",
      "Welcomes you in ENGLISH DICTIONARY APP\n",
      "------------------------------------------------------------------------------------------------------------------------\n",
      "1) Adding a new word\n",
      "2) Finding the meaning\n",
      "3) Updating a word\n",
      "4) Exit\n",
      "------------------------------------------------------------------------------------------------------------------------\n",
      "Enter number of your choice :fire\n"
     ]
    },
    {
     "ename": "ValueError",
     "evalue": "invalid literal for int() with base 10: 'fire'",
     "output_type": "error",
     "traceback": [
      "\u001b[1;31m---------------------------------------------------------------------------\u001b[0m",
      "\u001b[1;31mValueError\u001b[0m                                Traceback (most recent call last)",
      "\u001b[1;32m~\\AppData\\Local\\Temp\\ipykernel_11896\\900885306.py\u001b[0m in \u001b[0;36m<module>\u001b[1;34m\u001b[0m\n\u001b[1;32m----> 1\u001b[1;33m \u001b[0mmain_menu\u001b[0m\u001b[1;33m(\u001b[0m\u001b[1;33m)\u001b[0m\u001b[1;33m\u001b[0m\u001b[1;33m\u001b[0m\u001b[0m\n\u001b[0m",
      "\u001b[1;32m~\\AppData\\Local\\Temp\\ipykernel_11896\\3833366338.py\u001b[0m in \u001b[0;36mmain_menu\u001b[1;34m()\u001b[0m\n\u001b[0;32m     26\u001b[0m     \u001b[0mprint\u001b[0m\u001b[1;33m(\u001b[0m\u001b[1;34m\"4) Exit\"\u001b[0m\u001b[1;33m)\u001b[0m\u001b[1;33m\u001b[0m\u001b[1;33m\u001b[0m\u001b[0m\n\u001b[0;32m     27\u001b[0m     \u001b[0mprint\u001b[0m\u001b[1;33m(\u001b[0m\u001b[1;34m\"-\"\u001b[0m\u001b[1;33m*\u001b[0m\u001b[1;36m120\u001b[0m\u001b[1;33m)\u001b[0m\u001b[1;33m\u001b[0m\u001b[1;33m\u001b[0m\u001b[0m\n\u001b[1;32m---> 28\u001b[1;33m     \u001b[0mn\u001b[0m \u001b[1;33m=\u001b[0m \u001b[0mint\u001b[0m\u001b[1;33m(\u001b[0m\u001b[0minput\u001b[0m\u001b[1;33m(\u001b[0m\u001b[1;34m\"Enter number of your choice :\"\u001b[0m\u001b[1;33m)\u001b[0m\u001b[1;33m)\u001b[0m\u001b[1;33m\u001b[0m\u001b[1;33m\u001b[0m\u001b[0m\n\u001b[0m\u001b[0;32m     29\u001b[0m     \u001b[1;32mif\u001b[0m \u001b[0mn\u001b[0m\u001b[1;33m==\u001b[0m\u001b[1;36m1\u001b[0m\u001b[1;33m:\u001b[0m\u001b[1;33m\u001b[0m\u001b[1;33m\u001b[0m\u001b[0m\n\u001b[0;32m     30\u001b[0m         \u001b[0mAddNewWord\u001b[0m\u001b[1;33m(\u001b[0m\u001b[1;33m)\u001b[0m\u001b[1;33m\u001b[0m\u001b[1;33m\u001b[0m\u001b[0m\n",
      "\u001b[1;31mValueError\u001b[0m: invalid literal for int() with base 10: 'fire'"
     ]
    }
   ],
   "source": [
    "main_menu() "
   ]
  },
  {
   "cell_type": "code",
   "execution_count": null,
   "id": "abf65f54",
   "metadata": {},
   "outputs": [],
   "source": []
  },
  {
   "cell_type": "code",
   "execution_count": null,
   "id": "0fcc1460",
   "metadata": {},
   "outputs": [],
   "source": []
  },
  {
   "cell_type": "code",
   "execution_count": null,
   "id": "087e8fe1",
   "metadata": {},
   "outputs": [],
   "source": []
  },
  {
   "cell_type": "code",
   "execution_count": null,
   "id": "9023b8b4",
   "metadata": {},
   "outputs": [],
   "source": []
  },
  {
   "cell_type": "code",
   "execution_count": null,
   "id": "20846b3f",
   "metadata": {},
   "outputs": [],
   "source": []
  }
 ],
 "metadata": {
  "kernelspec": {
   "display_name": "Python 3 (ipykernel)",
   "language": "python",
   "name": "python3"
  },
  "language_info": {
   "codemirror_mode": {
    "name": "ipython",
    "version": 3
   },
   "file_extension": ".py",
   "mimetype": "text/x-python",
   "name": "python",
   "nbconvert_exporter": "python",
   "pygments_lexer": "ipython3",
   "version": "3.9.13"
  }
 },
 "nbformat": 4,
 "nbformat_minor": 5
}
