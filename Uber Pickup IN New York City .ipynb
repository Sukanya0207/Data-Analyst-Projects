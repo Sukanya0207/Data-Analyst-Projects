{
 "cells": [
  {
   "cell_type": "code",
   "execution_count": 30,
   "id": "becf2862",
   "metadata": {},
   "outputs": [],
   "source": [
    "import pandas as pd"
   ]
  },
  {
   "cell_type": "code",
   "execution_count": 31,
   "id": "151d7563",
   "metadata": {},
   "outputs": [
    {
     "name": "stdout",
     "output_type": "stream",
     "text": [
      "            Date         Time      Lat      Lon    Base\n",
      "0       01-04-14  12:11:00 AM  40.7690 -73.9549  B02512\n",
      "1       01-04-14  12:17:00 AM  40.7267 -74.0345  B02512\n",
      "2       01-04-14  12:21:00 AM  40.7316 -73.9873  B02512\n",
      "3       01-04-14  12:28:00 AM  40.7588 -73.9776  B02512\n",
      "4       01-04-14  12:33:00 AM  40.7594 -73.9722  B02512\n",
      "...          ...          ...      ...      ...     ...\n",
      "564511  30-04-14     23:22:00  40.7640 -73.9744  B02764\n",
      "564512  30-04-14     23:26:00  40.7629 -73.9672  B02764\n",
      "564513  30-04-14     23:31:00  40.7443 -73.9889  B02764\n",
      "564514  30-04-14     23:32:00  40.6756 -73.9405  B02764\n",
      "564515  30-04-14     23:48:00  40.6880 -73.9608  B02764\n",
      "\n",
      "[564516 rows x 5 columns]\n"
     ]
    }
   ],
   "source": [
    "df = pd.read_csv(r\"C:\\Users\\DELL\\Desktop\\Skill-lync\\INTERNSHIPS\\Skill-Lync Internship\\Project 3 Uber Pickup In New York City\\uber-raw-data-apr14.csv\")\n",
    "print(df)"
   ]
  },
  {
   "cell_type": "code",
   "execution_count": 42,
   "id": "1641b2da",
   "metadata": {},
   "outputs": [],
   "source": [
    "\n",
    "\n",
    "# Read the CSV file\n",
    "df = pd.read_csv(r'C:\\Users\\DELL\\Desktop\\Skill-lync\\INTERNSHIPS\\Skill-Lync Internship\\Project 3 Uber Pickup In New York City\\uber-raw-data-apr14.csv') \n",
    "\n",
    "# Assuming your date column is named 'Date'\n",
    "df['Date'] = df['Date'].str.replace('/', '-')\n",
    "\n",
    "# Assuming your time column is named 'Time'\n",
    "df['Time'] = df['Time'].str.replace('AM', '').str.replace('PM', '')\n",
    "\n",
    "# Save the modified DataFrame to a new CSV file\n",
    "df.to_csv('April-2014.csv', index=False)  # Replace 'output_file.csv' with the desired output file path\n",
    "\n"
   ]
  },
  {
   "cell_type": "code",
   "execution_count": 43,
   "id": "847928af",
   "metadata": {},
   "outputs": [],
   "source": [
    "# Read the CSV file\n",
    "df = pd.read_csv(r'C:\\Users\\DELL\\Desktop\\Skill-lync\\INTERNSHIPS\\Skill-Lync Internship\\Project 3 Uber Pickup In New York City\\uber-raw-data-may14.csv') \n",
    "\n",
    "# Assuming your date column is named 'Date'\n",
    "df['Date'] = df['Date'].str.replace('/', '-')\n",
    "df['Time'] = df['Time'].str.replace('AM', '').str.replace('PM', '')\n",
    "\n",
    "# Save the modified DataFrame to a new CSV file\n",
    "df.to_csv('May-2014.csv', index=False)  # Replace 'output_file.csv' with the desired output file path\n"
   ]
  },
  {
   "cell_type": "code",
   "execution_count": 44,
   "id": "9e861d37",
   "metadata": {},
   "outputs": [],
   "source": [
    "df = pd.read_csv(r\"C:\\Users\\DELL\\Desktop\\Skill-lync\\INTERNSHIPS\\Skill-Lync Internship\\Project 3 Uber Pickup In New York City\\uber-raw-data-jun14.csv\")\n",
    "# Assuming your date column is named 'Date'\n",
    "df['Date'] = df['Date'].str.replace('/', '-')\n",
    "df['Time'] = df['Time'].str.replace('AM', '').str.replace('PM', '')\n",
    "# Save the modified DataFrame to a new CSV file\n",
    "df.to_csv('June-2014.csv', index=False)  # Replace 'output_file.csv' with the desired output file path\n"
   ]
  },
  {
   "cell_type": "code",
   "execution_count": 45,
   "id": "1acf2e37",
   "metadata": {},
   "outputs": [],
   "source": [
    "\n",
    "df = pd.read_csv(r\"C:\\Users\\DELL\\Desktop\\Skill-lync\\INTERNSHIPS\\Skill-Lync Internship\\Project 3 Uber Pickup In New York City\\uber-raw-data-jul14.csv\")\n",
    "# Assuming your date column is named 'Date'\n",
    "df['Date'] = df['Date'].str.replace('/', '-')\n",
    "df['Time'] = df['Time'].str.replace('AM', '').str.replace('PM', '')\n",
    "\n",
    "# Save the modified DataFrame to a new CSV file\n",
    "df.to_csv('July-2014.csv', index=False)  # Replace 'output_file.csv' with the desired output file path"
   ]
  },
  {
   "cell_type": "code",
   "execution_count": 46,
   "id": "11d9b3ac",
   "metadata": {},
   "outputs": [],
   "source": [
    "df = pd.read_csv(r\"C:\\Users\\DELL\\Desktop\\Skill-lync\\INTERNSHIPS\\Skill-Lync Internship\\Project 3 Uber Pickup In New York City\\uber-raw-data-aug14.csv\")\n",
    "# Assuming your date column is named 'Date'\n",
    "df['Date'] = df['Date'].str.replace('/', '-')\n",
    "df['Time'] = df['Time'].str.replace('AM', '').str.replace('PM', '')\n",
    "\n",
    "# Save the modified DataFrame to a new CSV file\n",
    "df.to_csv('Aug-2014.csv', index=False)  # Replace 'output_file.csv' with the desired output file path"
   ]
  },
  {
   "cell_type": "code",
   "execution_count": 47,
   "id": "2c5f724c",
   "metadata": {},
   "outputs": [],
   "source": [
    "df = pd.read_csv(r\"C:\\Users\\DELL\\Desktop\\Skill-lync\\INTERNSHIPS\\Skill-Lync Internship\\Project 3 Uber Pickup In New York City\\uber-raw-data-sep14.csv\")\n",
    "# Assuming your date column is named 'Date'\n",
    "df['Date'] = df['Date'].str.replace('/', '-')\n",
    "df['Time'] = df['Time'].str.replace('AM', '').str.replace('PM', '')\n",
    "\n",
    "# Save the modified DataFrame to a new CSV file\n",
    "df.to_csv('Sept-2014.csv', index=False)  # Replace 'output_file.csv' with the desired output file path"
   ]
  },
  {
   "cell_type": "code",
   "execution_count": 48,
   "id": "98264e3e",
   "metadata": {},
   "outputs": [],
   "source": [
    "df = pd.read_csv(r\"C:\\Users\\DELL\\Desktop\\Skill-lync\\INTERNSHIPS\\Skill-Lync Internship\\Project 3 Uber Pickup In New York City\\uber-raw-data-janjune-15.csv\")\n",
    "# Assuming your date column is named 'Date'\n",
    "\n",
    "df['Time'] = df['Time'].str.replace('AM', '').str.replace('PM', '')\n",
    "\n",
    "# Save the modified DataFrame to a new CSV file\n",
    "df.to_csv('Jan-Jun 2015.csv', index=False)  # Replace 'output_file.csv' with the desired output file path"
   ]
  },
  {
   "cell_type": "code",
   "execution_count": null,
   "id": "70681fa9",
   "metadata": {},
   "outputs": [],
   "source": []
  },
  {
   "cell_type": "code",
   "execution_count": null,
   "id": "b1e41b62",
   "metadata": {},
   "outputs": [],
   "source": []
  }
 ],
 "metadata": {
  "kernelspec": {
   "display_name": "Python 3 (ipykernel)",
   "language": "python",
   "name": "python3"
  },
  "language_info": {
   "codemirror_mode": {
    "name": "ipython",
    "version": 3
   },
   "file_extension": ".py",
   "mimetype": "text/x-python",
   "name": "python",
   "nbconvert_exporter": "python",
   "pygments_lexer": "ipython3",
   "version": "3.9.13"
  }
 },
 "nbformat": 4,
 "nbformat_minor": 5
}
